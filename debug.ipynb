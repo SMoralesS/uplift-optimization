{
 "cells": [
  {
   "cell_type": "code",
   "execution_count": 1,
   "metadata": {},
   "outputs": [
    {
     "name": "stderr",
     "output_type": "stream",
     "text": [
      "/home/sean/.local/lib/python3.8/site-packages/tqdm/auto.py:22: TqdmWarning: IProgress not found. Please update jupyter and ipywidgets. See https://ipywidgets.readthedocs.io/en/stable/user_install.html\n",
      "  from .autonotebook import tqdm as notebook_tqdm\n",
      "Failed to import duecredit due to No module named 'duecredit'\n"
     ]
    }
   ],
   "source": [
    "from causalml.dataset import make_uplift_classification\n",
    "from sklearn.preprocessing import OrdinalEncoder\n",
    "import numpy as np\n",
    "from uplift.meta_learner import NVEX"
   ]
  },
  {
   "cell_type": "code",
   "execution_count": 2,
   "metadata": {},
   "outputs": [],
   "source": [
    "df, X_names = make_uplift_classification(\n",
    "    n_samples=1000, treatment_name=[\"control\", \"treatment1\", \"treatment2\"]\n",
    ")"
   ]
  },
  {
   "cell_type": "markdown",
   "metadata": {},
   "source": []
  },
  {
   "cell_type": "code",
   "execution_count": 3,
   "metadata": {},
   "outputs": [],
   "source": [
    "y = \"conversion\"\n",
    "T = \"treatment_group_key\"\n",
    "control = 0\n",
    "X = [col for col in df.columns if col not in [y, \"conversion\"] and \"informative\" in col]"
   ]
  },
  {
   "cell_type": "code",
   "execution_count": 4,
   "metadata": {},
   "outputs": [],
   "source": [
    "T_encoder = OrdinalEncoder()\n",
    "df[T] = T_encoder.fit_transform(df[T].to_numpy().reshape(-1, 1)).astype(int)\n"
   ]
  },
  {
   "cell_type": "code",
   "execution_count": 5,
   "metadata": {},
   "outputs": [],
   "source": [
    "X = df[X].to_numpy()\n",
    "T = df[T].to_numpy()\n",
    "y = df[y].to_numpy()"
   ]
  },
  {
   "cell_type": "code",
   "execution_count": 6,
   "metadata": {},
   "outputs": [],
   "source": [
    "ic_lookup = {0: 0, 1: 0.1, 2: 0.1}\n",
    "cc_lookup = {0: 0, 1: 5, 2: 10}\n",
    "value = np.ones(df.shape) * 20"
   ]
  },
  {
   "cell_type": "code",
   "execution_count": 7,
   "metadata": {},
   "outputs": [],
   "source": [
    "clf = NVEX(ic_lookup=ic_lookup, cc_lookup=cc_lookup)"
   ]
  },
  {
   "cell_type": "code",
   "execution_count": 8,
   "metadata": {},
   "outputs": [
    {
     "ename": "NameError",
     "evalue": "name 'response_models' is not defined",
     "output_type": "error",
     "traceback": [
      "\u001b[0;31m---------------------------------------------------------------------------\u001b[0m",
      "\u001b[0;31mNameError\u001b[0m                                 Traceback (most recent call last)",
      "Cell \u001b[0;32mIn[8], line 1\u001b[0m\n\u001b[0;32m----> 1\u001b[0m clf\u001b[39m.\u001b[39;49mfit(X, y, T, value)\n",
      "File \u001b[0;32m~/Documents/uplift-optimization/uplift/meta_learner.py:37\u001b[0m, in \u001b[0;36mNVEX.fit\u001b[0;34m(self, X, y, T, value)\u001b[0m\n\u001b[1;32m     35\u001b[0m     m \u001b[39m=\u001b[39m \u001b[39mself\u001b[39m\u001b[39m.\u001b[39mbase_classifier()\n\u001b[1;32m     36\u001b[0m     m\u001b[39m.\u001b[39mfit(X[treatment_idx], y[treatment_idx])\n\u001b[0;32m---> 37\u001b[0m     response_models[t] \u001b[39m=\u001b[39m m\n\u001b[1;32m     39\u001b[0m \u001b[39m# stage 2: Compute psuedo treatment effects\u001b[39;00m\n\u001b[1;32m     40\u001b[0m \u001b[39mfor\u001b[39;00m t \u001b[39min\u001b[39;00m \u001b[39mself\u001b[39m\u001b[39m.\u001b[39mtreatments_:\n",
      "\u001b[0;31mNameError\u001b[0m: name 'response_models' is not defined"
     ]
    }
   ],
   "source": [
    "clf.fit(X, y, T, value)"
   ]
  },
  {
   "cell_type": "code",
   "execution_count": null,
   "metadata": {},
   "outputs": [],
   "source": [
    "actions = "
   ]
  }
 ],
 "metadata": {
  "kernelspec": {
   "display_name": "causal",
   "language": "python",
   "name": "python3"
  },
  "language_info": {
   "codemirror_mode": {
    "name": "ipython",
    "version": 3
   },
   "file_extension": ".py",
   "mimetype": "text/x-python",
   "name": "python",
   "nbconvert_exporter": "python",
   "pygments_lexer": "ipython3",
   "version": "3.8.16"
  },
  "orig_nbformat": 4,
  "vscode": {
   "interpreter": {
    "hash": "db47acd11efc28b5ae79a6325446a19ac2632e6052cb03ca38bb5587ba68be46"
   }
  }
 },
 "nbformat": 4,
 "nbformat_minor": 2
}
