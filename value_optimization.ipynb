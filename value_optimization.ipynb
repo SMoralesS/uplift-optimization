{
 "cells": [
  {
   "cell_type": "code",
   "execution_count": 1,
   "metadata": {},
   "outputs": [
    {
     "name": "stderr",
     "output_type": "stream",
     "text": [
      "/home/sean/.local/lib/python3.8/site-packages/tqdm/auto.py:22: TqdmWarning: IProgress not found. Please update jupyter and ipywidgets. See https://ipywidgets.readthedocs.io/en/stable/user_install.html\n",
      "  from .autonotebook import tqdm as notebook_tqdm\n",
      "Failed to import duecredit due to No module named 'duecredit'\n"
     ]
    }
   ],
   "source": [
    "import numpy as np\n",
    "import pandas as pd\n",
    "\n",
    "from sklearn.model_selection import train_test_split\n",
    "\n",
    "import lightgbm as lgb\n",
    "\n",
    "from causalml.dataset import make_uplift_classification\n",
    "from causalml.inference.meta import BaseTClassifier\n",
    "from causalml.optimize import get_treatment_costs, get_actual_value, CounterfactualValueEstimator\n",
    "\n",
    "from uplift.meta_learner import XLearner\n",
    "from sklearn.preprocessing import OrdinalEncoder\n",
    "\n",
    "import matplotlib.pyplot as plt\n",
    "import seaborn as sns\n",
    "from causalml.metrics import auuc_score, get_cumgain, plot_gain\n",
    "\n",
    "sns.set_style('whitegrid')\n",
    "\n",
    "%matplotlib inline\n"
   ]
  },
  {
   "cell_type": "code",
   "execution_count": 2,
   "metadata": {},
   "outputs": [],
   "source": [
    "df, X_names = make_uplift_classification(\n",
    "    n_samples=5000,\n",
    "    treatment_name=[\"control\", \"treatment1\", \"treatment2\"],\n",
    "    positive_class_proportion=0.1,\n",
    ")"
   ]
  },
  {
   "cell_type": "code",
   "execution_count": 3,
   "metadata": {},
   "outputs": [],
   "source": [
    "df['expected_value'] = np.abs(df['x6_irrelevant']) * 20 + np.random.normal(0, 5)"
   ]
  },
  {
   "cell_type": "code",
   "execution_count": 4,
   "metadata": {},
   "outputs": [],
   "source": [
    "# Put costs into dicts\n",
    "conversion_cost_dict = {\"control\": 0, \"treatment1\": 2.5, \"treatment2\": 10}\n",
    "impression_cost_dict = {\"control\": 0, \"treatment1\": 0, \"treatment2\": 0.02}\n",
    "\n",
    "# Use a helper function to put treatment costs to array\n",
    "cc_array, ic_array, conditions = get_treatment_costs(\n",
    "    treatment=df[\"treatment_group_key\"],\n",
    "    control_name=\"control\",\n",
    "    cc_dict=conversion_cost_dict,\n",
    "    ic_dict=impression_cost_dict,\n",
    ")\n",
    "\n",
    "# Put the conversion value into an array\n",
    "conversion_value_array = df['expected_value'].to_numpy()"
   ]
  },
  {
   "cell_type": "code",
   "execution_count": 5,
   "metadata": {},
   "outputs": [],
   "source": [
    "# Use a helper function to obtain the value of actual treatment\n",
    "actual_value = get_actual_value(\n",
    "    treatment=df[\"treatment_group_key\"],\n",
    "    observed_outcome=df[\"conversion\"],\n",
    "    conversion_value=conversion_value_array,\n",
    "    conditions=conditions,\n",
    "    conversion_cost=cc_array,\n",
    "    impression_cost=ic_array,\n",
    ")"
   ]
  },
  {
   "cell_type": "code",
   "execution_count": 6,
   "metadata": {},
   "outputs": [],
   "source": [
    "df_train, df_test = train_test_split(df)\n",
    "train_idx = df_train.index\n",
    "test_idx = df_test.index"
   ]
  },
  {
   "attachments": {},
   "cell_type": "markdown",
   "metadata": {},
   "source": [
    "### Random Policy"
   ]
  },
  {
   "cell_type": "code",
   "execution_count": 7,
   "metadata": {},
   "outputs": [],
   "source": [
    "test_actual_value = actual_value.loc[test_idx]\n",
    "random_treatments = pd.Series(\n",
    "    np.random.choice(conditions, test_idx.shape[0]), index=test_idx\n",
    ")\n",
    "test_treatments = df.loc[test_idx, \"treatment_group_key\"]\n",
    "random_allocation_value = test_actual_value[test_treatments == random_treatments]\n"
   ]
  },
  {
   "attachments": {},
   "cell_type": "markdown",
   "metadata": {},
   "source": [
    "### Best Treatment Policy"
   ]
  },
  {
   "cell_type": "code",
   "execution_count": 8,
   "metadata": {},
   "outputs": [],
   "source": [
    "best_ate = df_train.groupby(\"treatment_group_key\")[\"conversion\"].mean().idxmax()\n",
    "\n",
    "actual_is_best_ate = df_test[\"treatment_group_key\"] == best_ate\n",
    "\n",
    "best_ate_value = actual_value.loc[test_idx][actual_is_best_ate]"
   ]
  },
  {
   "attachments": {},
   "cell_type": "markdown",
   "metadata": {},
   "source": [
    "### X Learner"
   ]
  },
  {
   "cell_type": "code",
   "execution_count": 9,
   "metadata": {},
   "outputs": [],
   "source": [
    "xm = XLearner()\n",
    "encoder = {\"control\": 0, \"treatment1\": 1, \"treatment2\": 2}\n",
    "X = df.loc[train_idx, X_names].to_numpy()\n",
    "y = df.loc[train_idx, \"conversion\"].to_numpy()\n",
    "T = np.array([encoder[x] for x in df.loc[train_idx, \"treatment_group_key\"]])\n",
    "\n",
    "xm.fit(X, y, T)"
   ]
  },
  {
   "cell_type": "code",
   "execution_count": 10,
   "metadata": {},
   "outputs": [],
   "source": [
    "X_test = df.loc[test_idx, X_names].to_numpy()\n",
    "xm_pred = xm.predict(X_test).drop(0, axis=1)\n",
    "xm_best = xm_pred.idxmax(axis=1)\n",
    "xm_best = [conditions[idx] for idx in xm_best]\n",
    "\n",
    "actual_is_xm_best = df_test[\"treatment_group_key\"] == xm_best\n",
    "xm_value = actual_value.loc[test_idx][actual_is_xm_best]"
   ]
  },
  {
   "attachments": {},
   "cell_type": "markdown",
   "metadata": {},
   "source": [
    "### CVE"
   ]
  },
  {
   "cell_type": "code",
   "execution_count": 11,
   "metadata": {},
   "outputs": [],
   "source": [
    "proba_model = lgb.LGBMClassifier()\n",
    "\n",
    "W_dummies = pd.get_dummies(df[\"treatment_group_key\"])\n",
    "XW = np.c_[df[X_names], W_dummies]\n",
    "\n",
    "proba_model.fit(XW[train_idx], df_train[\"conversion\"])\n",
    "y_proba = proba_model.predict_proba(XW[test_idx])[:, 1]"
   ]
  },
  {
   "cell_type": "code",
   "execution_count": 12,
   "metadata": {},
   "outputs": [],
   "source": [
    "expected_value_model = lgb.LGBMRegressor()\n",
    "expected_value_model.fit(XW[train_idx], df_train['expected_value'])\n",
    "pred_conv_value = expected_value_model.predict(XW[test_idx])"
   ]
  },
  {
   "cell_type": "code",
   "execution_count": 13,
   "metadata": {},
   "outputs": [],
   "source": [
    "# Run the counterfactual calculation with TwoModel prediction\n",
    "cve = CounterfactualValueEstimator(\n",
    "    treatment=df_test[\"treatment_group_key\"],\n",
    "    control_name=\"control\",\n",
    "    treatment_names=conditions[1:],\n",
    "    y_proba=y_proba,\n",
    "    cate=xm_pred,\n",
    "    value=pred_conv_value,\n",
    "    conversion_cost=cc_array[test_idx],\n",
    "    impression_cost=ic_array[test_idx],\n",
    ")\n",
    "\n",
    "cve_best_idx = cve.predict_best()\n",
    "cve_best = [conditions[idx] for idx in cve_best_idx]\n",
    "actual_is_cve_best = df.loc[test_idx, \"treatment_group_key\"] == cve_best\n",
    "cve_value = actual_value.loc[test_idx][actual_is_cve_best]"
   ]
  },
  {
   "attachments": {},
   "cell_type": "markdown",
   "metadata": {},
   "source": [
    "### Net Value Optimized X Learner\n"
   ]
  },
  {
   "cell_type": "code",
   "execution_count": 14,
   "metadata": {},
   "outputs": [],
   "source": [
    "%%capture\n",
    "\n",
    "encoder = {\"control\": 0, \"treatment1\": 1, \"treatment2\": 2}\n",
    "\n",
    "ic_lookup = {0: 0, 1: 0.1, 2: 0.1}\n",
    "cc_lookup = {0: 0, 1: 5, 2: 10}\n",
    "\n",
    "nvex = XLearner(ic_lookup=ic_lookup, cc_lookup=cc_lookup)\n",
    "\n",
    "X = df.loc[train_idx, X_names].to_numpy()\n",
    "y = df.loc[train_idx, \"conversion\"].to_numpy()\n",
    "T = np.array([encoder[x] for x in df.loc[train_idx, \"treatment_group_key\"]])\n",
    "value = df.loc[train_idx, \"expected_value\"].to_numpy()\n",
    "\n",
    "nvex.fit(X, y, T, value)\n"
   ]
  },
  {
   "cell_type": "code",
   "execution_count": 15,
   "metadata": {},
   "outputs": [],
   "source": [
    "X_test = df.loc[test_idx, X_names].to_numpy()\n",
    "nvex_preds = nvex.get_best_action(X_test)\n",
    "\n",
    "nvex_best = [conditions[idx] for idx in nvex_preds]\n",
    "actual_is_nvex_best = df.loc[test_idx, \"treatment_group_key\"] == nvex_best\n",
    "nvex_value = actual_value.loc[test_idx][actual_is_nvex_best]"
   ]
  },
  {
   "cell_type": "code",
   "execution_count": 16,
   "metadata": {},
   "outputs": [],
   "source": [
    "test_value = actual_value.loc[test_idx]\n",
    "best_value = test_value[test_value >= 0]\n"
   ]
  },
  {
   "cell_type": "code",
   "execution_count": 23,
   "metadata": {},
   "outputs": [
    {
     "data": {
      "image/png": "[encoded data removed]",
      "text/plain": [
       "<Figure size 640x480 with 1 Axes>"
      ]
     },
     "metadata": {},
     "output_type": "display_data"
    }
   ],
   "source": [
    "labels = [\n",
    "    \"Random allocation\",\n",
    "    \"Best treatment\",\n",
    "    \"X-Learner\",\n",
    "    \"NVO X-Learner\",\n",
    "    \"CVE\",\n",
    "    \"Best Possible\",\n",
    "]\n",
    "\n",
    "values = [\n",
    "    random_allocation_value,\n",
    "    best_ate_value,\n",
    "    xm_value,\n",
    "    nvex_value,\n",
    "    cve_value,\n",
    "    best_value,\n",
    "]\n",
    "\n",
    "bar_plot_values = [x.mean() for x in values]\n",
    "\n",
    "plt.suptitle('Performance Evaluation')\n",
    "plt.barh(labels, bar_plot_values)\n",
    "plt.xlabel(\"Mean Actual Value\")\n",
    "plt.show()"
   ]
  },
  {
   "cell_type": "code",
   "execution_count": null,
   "metadata": {},
   "outputs": [],
   "source": []
  }
 ],
 "metadata": {
  "kernelspec": {
   "display_name": "causal",
   "language": "python",
   "name": "python3"
  },
  "language_info": {
   "codemirror_mode": {
    "name": "ipython",
    "version": 3
   },
   "file_extension": ".py",
   "mimetype": "text/x-python",
   "name": "python",
   "nbconvert_exporter": "python",
   "pygments_lexer": "ipython3",
   "version": "3.8.16"
  },
  "orig_nbformat": 4,
  "vscode": {
   "interpreter": {
    "hash": "db47acd11efc28b5ae79a6325446a19ac2632e6052cb03ca38bb5587ba68be46"
   }
  }
 },
 "nbformat": 4,
 "nbformat_minor": 2
}
