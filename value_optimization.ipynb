{
 "cells": [
  {
   "cell_type": "code",
   "execution_count": 1,
   "metadata": {},
   "outputs": [
    {
     "name": "stderr",
     "output_type": "stream",
     "text": [
      "/home/sean/.local/lib/python3.8/site-packages/tqdm/auto.py:22: TqdmWarning: IProgress not found. Please update jupyter and ipywidgets. See https://ipywidgets.readthedocs.io/en/stable/user_install.html\n",
      "  from .autonotebook import tqdm as notebook_tqdm\n",
      "Failed to import duecredit due to No module named 'duecredit'\n"
     ]
    }
   ],
   "source": [
    "import numpy as np\n",
    "import pandas as pd\n",
    "\n",
    "from sklearn.model_selection import train_test_split\n",
    "\n",
    "import lightgbm as lgb\n",
    "\n",
    "from causalml.dataset import make_uplift_classification\n",
    "from causalml.inference.meta import BaseTClassifier\n",
    "from causalml.optimize import get_treatment_costs, get_actual_value, CounterfactualValueEstimator\n",
    "\n",
    "from uplift.meta_learner import XLearner\n",
    "from sklearn.preprocessing import OrdinalEncoder\n",
    "\n",
    "import matplotlib.pyplot as plt\n",
    "import seaborn as sns\n",
    "from causalml.metrics import auuc_score, get_cumgain, plot_gain\n",
    "\n",
    "sns.set_style('whitegrid')\n",
    "\n",
    "%matplotlib inline\n"
   ]
  },
  {
   "cell_type": "code",
   "execution_count": 2,
   "metadata": {},
   "outputs": [],
   "source": [
    "df, X_names = make_uplift_classification(\n",
    "    n_samples=5000, treatment_name=[\"control\", \"treatment1\", \"treatment2\"],\n",
    "    positive_class_proportion=0.1\n",
    ")"
   ]
  },
  {
   "cell_type": "code",
   "execution_count": 3,
   "metadata": {},
   "outputs": [],
   "source": [
    "# Put costs into dicts\n",
    "conversion_cost_dict = {\"control\": 0, \"treatment1\": 2.5, \"treatment2\": 10}\n",
    "impression_cost_dict = {\"control\": 0, \"treatment1\": 0, \"treatment2\": 0.02}\n",
    "\n",
    "# Use a helper function to put treatment costs to array\n",
    "cc_array, ic_array, conditions = get_treatment_costs(\n",
    "    treatment=df[\"treatment_group_key\"],\n",
    "    control_name=\"control\",\n",
    "    cc_dict=conversion_cost_dict,\n",
    "    ic_dict=impression_cost_dict,\n",
    ")\n",
    "\n",
    "# Put the conversion value into an array\n",
    "conversion_value_array = np.full(df.shape[0], 20)"
   ]
  },
  {
   "cell_type": "code",
   "execution_count": 4,
   "metadata": {},
   "outputs": [],
   "source": [
    "# Use a helper function to obtain the value of actual treatment\n",
    "actual_value = get_actual_value(\n",
    "    treatment=df[\"treatment_group_key\"],\n",
    "    observed_outcome=df[\"conversion\"],\n",
    "    conversion_value=conversion_value_array,\n",
    "    conditions=conditions,\n",
    "    conversion_cost=cc_array,\n",
    "    impression_cost=ic_array,\n",
    ")"
   ]
  },
  {
   "cell_type": "code",
   "execution_count": 5,
   "metadata": {},
   "outputs": [],
   "source": [
    "df_train, df_test = train_test_split(df)\n",
    "train_idx = df_train.index\n",
    "test_idx = df_test.index"
   ]
  },
  {
   "attachments": {},
   "cell_type": "markdown",
   "metadata": {},
   "source": [
    "### Random Policy"
   ]
  },
  {
   "cell_type": "code",
   "execution_count": 6,
   "metadata": {},
   "outputs": [],
   "source": [
    "test_actual_value = actual_value.loc[test_idx]\n",
    "random_treatments = pd.Series(\n",
    "    np.random.choice(conditions, test_idx.shape[0]), index=test_idx\n",
    ")\n",
    "test_treatments = df.loc[test_idx, \"treatment_group_key\"]\n",
    "random_allocation_value = test_actual_value[test_treatments == random_treatments]\n"
   ]
  },
  {
   "attachments": {},
   "cell_type": "markdown",
   "metadata": {},
   "source": [
    "### Best Treatment Policy"
   ]
  },
  {
   "cell_type": "code",
   "execution_count": 7,
   "metadata": {},
   "outputs": [],
   "source": [
    "best_ate = df_train.groupby(\"treatment_group_key\")[\"conversion\"].mean().idxmax()\n",
    "\n",
    "actual_is_best_ate = df_test[\"treatment_group_key\"] == best_ate\n",
    "\n",
    "best_ate_value = actual_value.loc[test_idx][actual_is_best_ate]"
   ]
  },
  {
   "attachments": {},
   "cell_type": "markdown",
   "metadata": {},
   "source": [
    "### T Learner"
   ]
  },
  {
   "cell_type": "code",
   "execution_count": 8,
   "metadata": {},
   "outputs": [],
   "source": [
    "# Calculate the value under an uplift model\n",
    "tm = BaseTClassifier(\n",
    "    control_learner=lgb.LGBMClassifier(),\n",
    "    treatment_learner=lgb.LGBMClassifier(),\n",
    "    control_name=\"control\",\n",
    ")\n",
    "\n",
    "tm.fit(\n",
    "    df_train[X_names].values, df_train[\"treatment_group_key\"], df_train[\"conversion\"]\n",
    ")\n",
    "\n",
    "tm_pred = tm.predict(df_test[X_names].values)\n",
    "\n",
    "pred_df = pd.DataFrame(tm_pred, columns=tm._classes)\n",
    "tm_best = pred_df.idxmax(axis=1)\n",
    "actual_is_tm_best = df_test[\"treatment_group_key\"] == tm_best.ravel()\n",
    "tm_value = actual_value.loc[test_idx][actual_is_tm_best]\n"
   ]
  },
  {
   "attachments": {},
   "cell_type": "markdown",
   "metadata": {},
   "source": [
    "### CVE"
   ]
  },
  {
   "cell_type": "code",
   "execution_count": 9,
   "metadata": {},
   "outputs": [],
   "source": [
    "# Estimate the conditional mean model; this is a pure curve\n",
    "# fitting exercise\n",
    "proba_model = lgb.LGBMClassifier()\n",
    "\n",
    "W_dummies = pd.get_dummies(df[\"treatment_group_key\"])\n",
    "XW = np.c_[df[X_names], W_dummies]\n",
    "\n",
    "proba_model.fit(XW[train_idx], df_train[\"conversion\"])\n",
    "y_proba = proba_model.predict_proba(XW[test_idx])[:, 1]"
   ]
  },
  {
   "cell_type": "code",
   "execution_count": 10,
   "metadata": {},
   "outputs": [
    {
     "name": "stdout",
     "output_type": "stream",
     "text": [
      "2.646485647788984\n"
     ]
    }
   ],
   "source": [
    "# Run the counterfactual calculation with TwoModel prediction\n",
    "cve = CounterfactualValueEstimator(\n",
    "    treatment=df_test[\"treatment_group_key\"],\n",
    "    control_name=\"control\",\n",
    "    treatment_names=conditions[1:],\n",
    "    y_proba=y_proba,\n",
    "    cate=tm_pred,\n",
    "    value=conversion_value_array[test_idx],\n",
    "    conversion_cost=cc_array[test_idx],\n",
    "    impression_cost=ic_array[test_idx],\n",
    ")\n",
    "\n",
    "cve_best_idx = cve.predict_best()\n",
    "cve_best = [conditions[idx] for idx in cve_best_idx]\n",
    "actual_is_cve_best = df.loc[test_idx, \"treatment_group_key\"] == cve_best\n",
    "cve_value = actual_value.loc[test_idx][actual_is_cve_best]\n",
    "print(cve_value.mean())"
   ]
  },
  {
   "attachments": {},
   "cell_type": "markdown",
   "metadata": {},
   "source": [
    "### Net Value Optimized X Learner\n"
   ]
  },
  {
   "cell_type": "code",
   "execution_count": 11,
   "metadata": {},
   "outputs": [
    {
     "name": "stderr",
     "output_type": "stream",
     "text": [
      "\u001b[32m[I 2023-03-01 08:24:03,809]\u001b[0m A new study created in memory with name: no-name-875a55fd-4bab-4b27-8400-3df2f7a69521\u001b[0m\n",
      "\u001b[32m[I 2023-03-01 08:24:04,198]\u001b[0m Trial 0 finished with value: 0.22180067685515703 and parameters: {'feature_fraction': 0.4}. Best is trial 0 with value: 0.22180067685515703.\u001b[0m\n",
      "\u001b[32m[I 2023-03-01 08:24:04,459]\u001b[0m Trial 1 finished with value: 0.22180067685515703 and parameters: {'feature_fraction': 0.8999999999999999}. Best is trial 0 with value: 0.22180067685515703.\u001b[0m\n",
      "\u001b[32m[I 2023-03-01 08:24:04,649]\u001b[0m Trial 2 finished with value: 0.22180067685515703 and parameters: {'feature_fraction': 0.8}. Best is trial 0 with value: 0.22180067685515703.\u001b[0m\n",
      "\u001b[32m[I 2023-03-01 08:24:04,799]\u001b[0m Trial 3 finished with value: 0.22180067685515703 and parameters: {'feature_fraction': 0.7}. Best is trial 0 with value: 0.22180067685515703.\u001b[0m\n",
      "\u001b[32m[I 2023-03-01 08:24:04,966]\u001b[0m Trial 4 finished with value: 0.22180067685515703 and parameters: {'feature_fraction': 1.0}. Best is trial 0 with value: 0.22180067685515703.\u001b[0m\n",
      "\u001b[32m[I 2023-03-01 08:24:05,101]\u001b[0m Trial 5 finished with value: 0.21525346646713825 and parameters: {'feature_fraction': 0.5}. Best is trial 5 with value: 0.21525346646713825.\u001b[0m\n",
      "\u001b[32m[I 2023-03-01 08:24:05,225]\u001b[0m Trial 6 finished with value: 0.21525346646713825 and parameters: {'feature_fraction': 0.6}. Best is trial 5 with value: 0.21525346646713825.\u001b[0m\n",
      "\u001b[32m[I 2023-03-01 08:24:05,582]\u001b[0m Trial 7 finished with value: 0.21525346646713825 and parameters: {'num_leaves': 248}. Best is trial 7 with value: 0.21525346646713825.\u001b[0m\n",
      "\u001b[32m[I 2023-03-01 08:24:05,766]\u001b[0m Trial 8 finished with value: 0.21525346646713825 and parameters: {'num_leaves': 136}. Best is trial 7 with value: 0.21525346646713825.\u001b[0m\n",
      "\u001b[32m[I 2023-03-01 08:24:05,914]\u001b[0m Trial 9 finished with value: 0.21525346646713825 and parameters: {'num_leaves': 37}. Best is trial 7 with value: 0.21525346646713825.\u001b[0m\n",
      "\u001b[32m[I 2023-03-01 08:24:06,165]\u001b[0m Trial 10 finished with value: 0.21525346646713825 and parameters: {'num_leaves': 101}. Best is trial 7 with value: 0.21525346646713825.\u001b[0m\n",
      "\u001b[32m[I 2023-03-01 08:24:06,353]\u001b[0m Trial 11 finished with value: 0.21525346646713825 and parameters: {'num_leaves': 93}. Best is trial 7 with value: 0.21525346646713825.\u001b[0m\n",
      "\u001b[32m[I 2023-03-01 08:24:06,527]\u001b[0m Trial 12 finished with value: 0.21525346646713825 and parameters: {'num_leaves': 79}. Best is trial 7 with value: 0.21525346646713825.\u001b[0m\n",
      "\u001b[32m[I 2023-03-01 08:24:06,716]\u001b[0m Trial 13 finished with value: 0.21525346646713825 and parameters: {'num_leaves': 99}. Best is trial 7 with value: 0.21525346646713825.\u001b[0m\n",
      "\u001b[32m[I 2023-03-01 08:24:06,829]\u001b[0m Trial 14 finished with value: 0.21525346646713825 and parameters: {'num_leaves': 103}. Best is trial 7 with value: 0.21525346646713825.\u001b[0m\n",
      "\u001b[32m[I 2023-03-01 08:24:07,145]\u001b[0m Trial 15 finished with value: 0.21525346646713825 and parameters: {'num_leaves': 256}. Best is trial 7 with value: 0.21525346646713825.\u001b[0m\n",
      "\u001b[32m[I 2023-03-01 08:24:07,347]\u001b[0m Trial 16 finished with value: 0.21525346646713825 and parameters: {'num_leaves': 118}. Best is trial 7 with value: 0.21525346646713825.\u001b[0m\n",
      "\u001b[32m[I 2023-03-01 08:24:07,580]\u001b[0m Trial 17 finished with value: 0.21525346646713825 and parameters: {'num_leaves': 249}. Best is trial 7 with value: 0.21525346646713825.\u001b[0m\n",
      "\u001b[32m[I 2023-03-01 08:24:07,751]\u001b[0m Trial 18 finished with value: 0.21525346646713825 and parameters: {'num_leaves': 186}. Best is trial 7 with value: 0.21525346646713825.\u001b[0m\n",
      "\u001b[32m[I 2023-03-01 08:24:07,997]\u001b[0m Trial 19 finished with value: 0.21525346646713825 and parameters: {'num_leaves': 180}. Best is trial 7 with value: 0.21525346646713825.\u001b[0m\n",
      "\u001b[32m[I 2023-03-01 08:24:08,211]\u001b[0m Trial 20 finished with value: 0.21525346646713825 and parameters: {'num_leaves': 162}. Best is trial 7 with value: 0.21525346646713825.\u001b[0m\n",
      "\u001b[32m[I 2023-03-01 08:24:08,397]\u001b[0m Trial 21 finished with value: 0.21525346646713825 and parameters: {'num_leaves': 211}. Best is trial 7 with value: 0.21525346646713825.\u001b[0m\n",
      "\u001b[32m[I 2023-03-01 08:24:08,482]\u001b[0m Trial 22 finished with value: 0.21180609006064127 and parameters: {'num_leaves': 2}. Best is trial 22 with value: 0.21180609006064127.\u001b[0m\n",
      "\u001b[32m[I 2023-03-01 08:24:08,714]\u001b[0m Trial 23 finished with value: 0.21180609006064127 and parameters: {'num_leaves': 4}. Best is trial 22 with value: 0.21180609006064127.\u001b[0m\n",
      "\u001b[32m[I 2023-03-01 08:24:08,794]\u001b[0m Trial 24 finished with value: 0.21180609006064127 and parameters: {'num_leaves': 2}. Best is trial 22 with value: 0.21180609006064127.\u001b[0m\n",
      "\u001b[32m[I 2023-03-01 08:24:08,990]\u001b[0m Trial 25 finished with value: 0.21180609006064127 and parameters: {'num_leaves': 53}. Best is trial 22 with value: 0.21180609006064127.\u001b[0m\n",
      "\u001b[32m[I 2023-03-01 08:24:09,108]\u001b[0m Trial 26 finished with value: 0.21180609006064127 and parameters: {'num_leaves': 4}. Best is trial 22 with value: 0.21180609006064127.\u001b[0m\n",
      "\u001b[32m[I 2023-03-01 08:24:09,194]\u001b[0m Trial 27 finished with value: 0.21108721871052635 and parameters: {'bagging_fraction': 0.7225312887135285, 'bagging_freq': 5}. Best is trial 27 with value: 0.21108721871052635.\u001b[0m\n",
      "\u001b[32m[I 2023-03-01 08:24:09,292]\u001b[0m Trial 28 finished with value: 0.21108721871052635 and parameters: {'bagging_fraction': 0.7839504105266163, 'bagging_freq': 3}. Best is trial 27 with value: 0.21108721871052635.\u001b[0m\n",
      "\u001b[32m[I 2023-03-01 08:24:09,489]\u001b[0m Trial 29 finished with value: 0.21057562384614786 and parameters: {'bagging_fraction': 0.8453336072395429, 'bagging_freq': 6}. Best is trial 29 with value: 0.21057562384614786.\u001b[0m\n",
      "\u001b[32m[I 2023-03-01 08:24:09,560]\u001b[0m Trial 30 finished with value: 0.20828191496342469 and parameters: {'bagging_fraction': 0.7853652069904795, 'bagging_freq': 5}. Best is trial 30 with value: 0.20828191496342469.\u001b[0m\n",
      "\u001b[32m[I 2023-03-01 08:24:09,691]\u001b[0m Trial 31 finished with value: 0.20828191496342469 and parameters: {'bagging_fraction': 0.5539874328296084, 'bagging_freq': 3}. Best is trial 30 with value: 0.20828191496342469.\u001b[0m\n",
      "\u001b[32m[I 2023-03-01 08:24:09,785]\u001b[0m Trial 32 finished with value: 0.2032067992409248 and parameters: {'bagging_fraction': 0.4435719288374996, 'bagging_freq': 6}. Best is trial 32 with value: 0.2032067992409248.\u001b[0m\n",
      "\u001b[32m[I 2023-03-01 08:24:09,855]\u001b[0m Trial 33 finished with value: 0.2032067992409248 and parameters: {'bagging_fraction': 0.5470413738423712, 'bagging_freq': 4}. Best is trial 32 with value: 0.2032067992409248.\u001b[0m\n",
      "\u001b[32m[I 2023-03-01 08:24:09,967]\u001b[0m Trial 34 finished with value: 0.2032067992409248 and parameters: {'bagging_fraction': 0.6942227805605574, 'bagging_freq': 6}. Best is trial 32 with value: 0.2032067992409248.\u001b[0m\n",
      "\u001b[32m[I 2023-03-01 08:24:10,042]\u001b[0m Trial 35 finished with value: 0.2032067992409248 and parameters: {'bagging_fraction': 0.5851724543474099, 'bagging_freq': 3}. Best is trial 32 with value: 0.2032067992409248.\u001b[0m\n",
      "\u001b[32m[I 2023-03-01 08:24:10,109]\u001b[0m Trial 36 finished with value: 0.2032067992409248 and parameters: {'bagging_fraction': 0.8122895296750512, 'bagging_freq': 5}. Best is trial 32 with value: 0.2032067992409248.\u001b[0m\n",
      "\u001b[32m[I 2023-03-01 08:24:10,261]\u001b[0m Trial 37 finished with value: 0.19429277586688923 and parameters: {'feature_fraction': 0.5479999999999999}. Best is trial 37 with value: 0.19429277586688923.\u001b[0m\n",
      "\u001b[32m[I 2023-03-01 08:24:10,336]\u001b[0m Trial 38 finished with value: 0.19429277586688923 and parameters: {'feature_fraction': 0.45199999999999996}. Best is trial 37 with value: 0.19429277586688923.\u001b[0m\n",
      "\u001b[32m[I 2023-03-01 08:24:10,408]\u001b[0m Trial 39 finished with value: 0.19429277586688923 and parameters: {'feature_fraction': 0.58}. Best is trial 37 with value: 0.19429277586688923.\u001b[0m\n",
      "\u001b[32m[I 2023-03-01 08:24:10,618]\u001b[0m Trial 40 finished with value: 0.19429277586688923 and parameters: {'feature_fraction': 0.516}. Best is trial 37 with value: 0.19429277586688923.\u001b[0m\n",
      "\u001b[32m[I 2023-03-01 08:24:10,693]\u001b[0m Trial 41 finished with value: 0.19429277586688923 and parameters: {'feature_fraction': 0.42}. Best is trial 37 with value: 0.19429277586688923.\u001b[0m\n",
      "\u001b[32m[I 2023-03-01 08:24:10,799]\u001b[0m Trial 42 finished with value: 0.19429277586688923 and parameters: {'feature_fraction': 0.484}. Best is trial 37 with value: 0.19429277586688923.\u001b[0m\n",
      "\u001b[32m[I 2023-03-01 08:24:10,894]\u001b[0m Trial 43 finished with value: 0.19429277586688923 and parameters: {'lambda_l1': 0.1364891450497035, 'lambda_l2': 0.00232586499053071}. Best is trial 43 with value: 0.19429277586688923.\u001b[0m\n",
      "\u001b[32m[I 2023-03-01 08:24:10,977]\u001b[0m Trial 44 finished with value: 0.19429277586688923 and parameters: {'lambda_l1': 1.7382203159895615e-05, 'lambda_l2': 0.00028712450316716417}. Best is trial 43 with value: 0.19429277586688923.\u001b[0m\n",
      "\u001b[32m[I 2023-03-01 08:24:11,084]\u001b[0m Trial 45 finished with value: 0.19429277586688923 and parameters: {'lambda_l1': 3.9081068685391256, 'lambda_l2': 2.8313818158414445}. Best is trial 43 with value: 0.19429277586688923.\u001b[0m\n",
      "\u001b[32m[I 2023-03-01 08:24:11,202]\u001b[0m Trial 46 finished with value: 0.19429277586688923 and parameters: {'lambda_l1': 1.2322972929248748, 'lambda_l2': 1.4829239993795789}. Best is trial 43 with value: 0.19429277586688923.\u001b[0m\n",
      "\u001b[32m[I 2023-03-01 08:24:11,395]\u001b[0m Trial 47 finished with value: 0.19429277586688923 and parameters: {'lambda_l1': 0.0017439680031487515, 'lambda_l2': 1.299194194303073e-07}. Best is trial 43 with value: 0.19429277586688923.\u001b[0m\n",
      "\u001b[32m[I 2023-03-01 08:24:11,480]\u001b[0m Trial 48 finished with value: 0.19429277586688923 and parameters: {'lambda_l1': 0.0005973568571551897, 'lambda_l2': 0.0003755122577608147}. Best is trial 43 with value: 0.19429277586688923.\u001b[0m\n",
      "\u001b[32m[I 2023-03-01 08:24:11,576]\u001b[0m Trial 49 finished with value: 0.19429277586688923 and parameters: {'lambda_l1': 1.0085597891667197e-07, 'lambda_l2': 0.002165793270630112}. Best is trial 43 with value: 0.19429277586688923.\u001b[0m\n",
      "\u001b[32m[I 2023-03-01 08:24:11,658]\u001b[0m Trial 50 finished with value: 0.19429277586688923 and parameters: {'lambda_l1': 3.073944695272339e-05, 'lambda_l2': 2.1546786801619657e-07}. Best is trial 43 with value: 0.19429277586688923.\u001b[0m\n",
      "\u001b[32m[I 2023-03-01 08:24:11,757]\u001b[0m Trial 51 finished with value: 0.19429277586688923 and parameters: {'lambda_l1': 0.14630329237651682, 'lambda_l2': 0.0017019324941024761}. Best is trial 43 with value: 0.19429277586688923.\u001b[0m\n",
      "\u001b[32m[I 2023-03-01 08:24:11,838]\u001b[0m Trial 52 finished with value: 0.19429277586688923 and parameters: {'lambda_l1': 0.09779725991514841, 'lambda_l2': 0.05845949916779083}. Best is trial 43 with value: 0.19429277586688923.\u001b[0m\n",
      "\u001b[32m[I 2023-03-01 08:24:11,945]\u001b[0m Trial 53 finished with value: 0.19429277586688923 and parameters: {'lambda_l1': 0.00800977891256621, 'lambda_l2': 8.168195840892425e-06}. Best is trial 43 with value: 0.19429277586688923.\u001b[0m\n",
      "\u001b[32m[I 2023-03-01 08:24:12,200]\u001b[0m Trial 54 finished with value: 0.19429277586688923 and parameters: {'lambda_l1': 1.755645917908792e-05, 'lambda_l2': 3.949844886502428e-05}. Best is trial 43 with value: 0.19429277586688923.\u001b[0m\n",
      "\u001b[32m[I 2023-03-01 08:24:12,344]\u001b[0m Trial 55 finished with value: 0.19429277586688923 and parameters: {'lambda_l1': 1.3211138837909112e-05, 'lambda_l2': 0.06001991938195755}. Best is trial 43 with value: 0.19429277586688923.\u001b[0m\n",
      "\u001b[32m[I 2023-03-01 08:24:12,463]\u001b[0m Trial 56 finished with value: 0.19429277586688923 and parameters: {'lambda_l1': 5.448800619315624e-07, 'lambda_l2': 1.5489356930130773e-05}. Best is trial 43 with value: 0.19429277586688923.\u001b[0m\n",
      "\u001b[32m[I 2023-03-01 08:24:12,872]\u001b[0m Trial 57 finished with value: 0.19429277586688923 and parameters: {'lambda_l1': 1.0529129283619643e-08, 'lambda_l2': 0.012665931316684444}. Best is trial 43 with value: 0.19429277586688923.\u001b[0m\n",
      "\u001b[32m[I 2023-03-01 08:24:12,965]\u001b[0m Trial 58 finished with value: 0.19429277586688923 and parameters: {'lambda_l1': 0.007150488500349034, 'lambda_l2': 8.125862038286746e-05}. Best is trial 43 with value: 0.19429277586688923.\u001b[0m\n",
      "\u001b[32m[I 2023-03-01 08:24:13,064]\u001b[0m Trial 59 finished with value: 0.19429277586688923 and parameters: {'lambda_l1': 0.00011297981378101258, 'lambda_l2': 9.091625800858809e-07}. Best is trial 43 with value: 0.19429277586688923.\u001b[0m\n",
      "\u001b[32m[I 2023-03-01 08:24:13,158]\u001b[0m Trial 60 finished with value: 0.19429277586688923 and parameters: {'lambda_l1': 2.1961462476560183e-06, 'lambda_l2': 0.0002790581323889103}. Best is trial 43 with value: 0.19429277586688923.\u001b[0m\n",
      "\u001b[32m[I 2023-03-01 08:24:13,242]\u001b[0m Trial 61 finished with value: 0.19429277586688923 and parameters: {'lambda_l1': 8.898419959438266, 'lambda_l2': 2.771638481050506e-06}. Best is trial 43 with value: 0.19429277586688923.\u001b[0m\n",
      "\u001b[32m[I 2023-03-01 08:24:14,429]\u001b[0m Trial 62 finished with value: 0.19429277586688923 and parameters: {'lambda_l1': 0.00013244299202425886, 'lambda_l2': 1.6524105932747235e-08}. Best is trial 43 with value: 0.19429277586688923.\u001b[0m\n",
      "\u001b[32m[I 2023-03-01 08:24:15,135]\u001b[0m Trial 63 finished with value: 0.19429277586688923 and parameters: {'min_child_samples': 5}. Best is trial 63 with value: 0.19429277586688923.\u001b[0m\n",
      "\u001b[32m[I 2023-03-01 08:24:15,207]\u001b[0m Trial 64 finished with value: 0.19429277586688923 and parameters: {'min_child_samples': 100}. Best is trial 63 with value: 0.19429277586688923.\u001b[0m\n",
      "\u001b[32m[I 2023-03-01 08:24:15,294]\u001b[0m Trial 65 finished with value: 0.19429277586688923 and parameters: {'min_child_samples': 10}. Best is trial 63 with value: 0.19429277586688923.\u001b[0m\n",
      "\u001b[32m[I 2023-03-01 08:24:15,431]\u001b[0m Trial 66 finished with value: 0.19429277586688923 and parameters: {'min_child_samples': 50}. Best is trial 63 with value: 0.19429277586688923.\u001b[0m\n",
      "\u001b[32m[I 2023-03-01 08:24:15,679]\u001b[0m Trial 67 finished with value: 0.19408628816414697 and parameters: {'min_child_samples': 25}. Best is trial 67 with value: 0.19408628816414697.\u001b[0m\n",
      "\u001b[32m[I 2023-03-01 08:24:15,682]\u001b[0m A new study created in memory with name: no-name-5c49b418-4e2f-4ea3-840d-2d3f88aa0ec0\u001b[0m\n",
      "\u001b[32m[I 2023-03-01 08:24:16,086]\u001b[0m Trial 0 finished with value: 0.3608895317984017 and parameters: {'feature_fraction': 0.4}. Best is trial 0 with value: 0.3608895317984017.\u001b[0m\n",
      "\u001b[32m[I 2023-03-01 08:24:16,277]\u001b[0m Trial 1 finished with value: 0.3443925232750273 and parameters: {'feature_fraction': 0.5}. Best is trial 1 with value: 0.3443925232750273.\u001b[0m\n",
      "\u001b[32m[I 2023-03-01 08:24:16,427]\u001b[0m Trial 2 finished with value: 0.3443925232750273 and parameters: {'feature_fraction': 0.7}. Best is trial 1 with value: 0.3443925232750273.\u001b[0m\n",
      "\u001b[32m[I 2023-03-01 08:24:16,583]\u001b[0m Trial 3 finished with value: 0.3443925232750273 and parameters: {'feature_fraction': 0.8999999999999999}. Best is trial 1 with value: 0.3443925232750273.\u001b[0m\n",
      "\u001b[32m[I 2023-03-01 08:24:16,778]\u001b[0m Trial 4 finished with value: 0.3443925232750273 and parameters: {'feature_fraction': 0.6}. Best is trial 1 with value: 0.3443925232750273.\u001b[0m\n",
      "\u001b[32m[I 2023-03-01 08:24:16,918]\u001b[0m Trial 5 finished with value: 0.3443925232750273 and parameters: {'feature_fraction': 0.8}. Best is trial 1 with value: 0.3443925232750273.\u001b[0m\n",
      "\u001b[32m[I 2023-03-01 08:24:17,154]\u001b[0m Trial 6 finished with value: 0.3443925232750273 and parameters: {'feature_fraction': 1.0}. Best is trial 1 with value: 0.3443925232750273.\u001b[0m\n",
      "\u001b[32m[I 2023-03-01 08:24:17,307]\u001b[0m Trial 7 finished with value: 0.3443925232750272 and parameters: {'num_leaves': 226}. Best is trial 7 with value: 0.3443925232750272.\u001b[0m\n",
      "\u001b[32m[I 2023-03-01 08:24:17,447]\u001b[0m Trial 8 finished with value: 0.3443925232750272 and parameters: {'num_leaves': 128}. Best is trial 7 with value: 0.3443925232750272.\u001b[0m\n",
      "\u001b[32m[I 2023-03-01 08:24:17,845]\u001b[0m Trial 9 finished with value: 0.3443925232750272 and parameters: {'num_leaves': 220}. Best is trial 7 with value: 0.3443925232750272.\u001b[0m\n",
      "\u001b[32m[I 2023-03-01 08:24:18,054]\u001b[0m Trial 10 finished with value: 0.3443925232750272 and parameters: {'num_leaves': 184}. Best is trial 7 with value: 0.3443925232750272.\u001b[0m\n",
      "\u001b[32m[I 2023-03-01 08:24:18,201]\u001b[0m Trial 11 finished with value: 0.3443925232750272 and parameters: {'num_leaves': 19}. Best is trial 7 with value: 0.3443925232750272.\u001b[0m\n",
      "\u001b[32m[I 2023-03-01 08:24:18,414]\u001b[0m Trial 12 finished with value: 0.3443925232750272 and parameters: {'num_leaves': 232}. Best is trial 7 with value: 0.3443925232750272.\u001b[0m\n"
     ]
    }
   ],
   "source": [
    "%%capture\n",
    "\n",
    "encoder = {\"control\": 0, \"treatment1\": 1, \"treatment2\": 2}\n",
    "\n",
    "ic_lookup = {0: 0, 1: 0.1, 2: 0.1}\n",
    "cc_lookup = {0: 0, 1: 5, 2: 10}\n",
    "\n",
    "nvex = XLearner(ic_lookup=ic_lookup, cc_lookup=cc_lookup)\n",
    "\n",
    "X = df.loc[train_idx, X_names].to_numpy()\n",
    "y = df.loc[train_idx, \"conversion\"].to_numpy()\n",
    "T = np.array([encoder[x] for x in df.loc[train_idx, \"treatment_group_key\"]])\n",
    "value = np.ones(train_idx.shape[0]) * 20\n",
    "\n",
    "nvex.fit(X, y, T, value)\n"
   ]
  },
  {
   "cell_type": "code",
   "execution_count": null,
   "metadata": {},
   "outputs": [],
   "source": [
    "X_test = df.loc[test_idx, X_names].to_numpy()\n",
    "nvex_preds = nvex.get_best_action(X_test)\n",
    "\n",
    "nvex_best = [conditions[idx] for idx in nvex_preds]\n",
    "actual_is_nvex_best = df.loc[test_idx, \"treatment_group_key\"] == nvex_best\n",
    "nvex_value = actual_value.loc[test_idx][actual_is_nvex_best]"
   ]
  },
  {
   "cell_type": "code",
   "execution_count": null,
   "metadata": {},
   "outputs": [],
   "source": [
    "best_possible = actual_value.loc[test_idx]\n",
    "best_value = actual_value[actual_value >= 0].mean()\n"
   ]
  },
  {
   "cell_type": "code",
   "execution_count": null,
   "metadata": {},
   "outputs": [],
   "source": [
    "labels = [\n",
    "    \"Random allocation\",\n",
    "    \"Best treatment\",\n",
    "    \"T-Learner\",\n",
    "    \"nvex_value\",\n",
    "    \"CVE\",\n",
    "    \"best_possible\",\n",
    "]\n",
    "\n",
    "values = [\n",
    "    random_allocation_value,\n",
    "    best_ate_value,\n",
    "    tm_value,\n",
    "    nvex_value,\n",
    "    cve_value,\n",
    "    best_value,\n",
    "]\n",
    "\n",
    "bar_plot_values = [x.mean() for x in values]\n",
    "\n",
    "plt.bar(labels, bar_plot_values)\n",
    "plt.ylabel(\"Mean actual value in testing set\")\n",
    "plt.xticks(rotation=45)\n",
    "plt.show()"
   ]
  },
  {
   "cell_type": "code",
   "execution_count": null,
   "metadata": {},
   "outputs": [],
   "source": []
  }
 ],
 "metadata": {
  "kernelspec": {
   "display_name": "causal",
   "language": "python",
   "name": "python3"
  },
  "language_info": {
   "codemirror_mode": {
    "name": "ipython",
    "version": 3
   },
   "file_extension": ".py",
   "mimetype": "text/x-python",
   "name": "python",
   "nbconvert_exporter": "python",
   "pygments_lexer": "ipython3",
   "version": "3.8.16"
  },
  "orig_nbformat": 4,
  "vscode": {
   "interpreter": {
    "hash": "db47acd11efc28b5ae79a6325446a19ac2632e6052cb03ca38bb5587ba68be46"
   }
  }
 },
 "nbformat": 4,
 "nbformat_minor": 2
}
